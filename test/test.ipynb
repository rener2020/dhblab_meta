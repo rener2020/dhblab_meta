{
 "cells": [
  {
   "cell_type": "code",
   "execution_count": 33,
   "metadata": {},
   "outputs": [],
   "source": [
    "from peewee import *\n"
   ]
  },
  {
   "cell_type": "code",
   "execution_count": 34,
   "metadata": {},
   "outputs": [],
   "source": [
    "db_descriptor = '/mnt/share/workspace/com/dhblab_meta_socket/storage/db/sqlite/dhblab_meta'\n",
    "# db_descriptor = 'file:dhblab_meta?mode=memory&cache=shared'"
   ]
  },
  {
   "cell_type": "code",
   "execution_count": 35,
   "metadata": {},
   "outputs": [],
   "source": [
    "db = SqliteDatabase(db_descriptor)"
   ]
  },
  {
   "cell_type": "code",
   "execution_count": 36,
   "metadata": {},
   "outputs": [],
   "source": [
    "class AMR(Model):\n",
    "\n",
    "    class Meta:\n",
    "        database = db  # This model uses the \"people.db\" database.\n",
    "        db_table = 'amr'\n",
    "\n",
    "    # 第0位：设备类型\n",
    "    e_type = CharField()\n",
    "    # 第1位：小车编号（int，1，2，3，4）\n",
    "    number = IntegerField(primary_key=True, unique=True)\n",
    "    # 第2位：时间（字符串）\n",
    "    timestamp = CharField(null=True)\n",
    "    # 第3位：小车负载（int，0无负载，1负载）\n",
    "    load = IntegerField(null=True)\n",
    "    # 第4位：小车x坐标（float_x）\n",
    "    x = FloatField(null=True)\n",
    "    # 第5位：小车y坐标（float_y）\n",
    "    y = FloatField(null=True)\n",
    "    # 第5位：小车偏航角（float \\theat）\n",
    "    yaw = FloatField(null=True)\n",
    "    # 第6位：小车线速度（float v）\n",
    "    line_velocity = FloatField(null=True)\n",
    "    # 第7位：小车角速度（float w）\n",
    "    angular_velocity = FloatField(null=True)\n",
    "    # 第8位：小车电量（float）\n",
    "    quantity = FloatField(null=True)\n",
    "    # 第9位：预留位1（float）\n",
    "    unknown_1 = FloatField(null=True)\n",
    "    # 第10位：预留位2（字符串）\n",
    "    unknown_2 = CharField(null=True)\n",
    "\n",
    "    def __init__(self, *args, **kwargs):\n",
    "        super().__init__(*args, **kwargs)\n",
    "        if not self.table_exists():\n",
    "            self.create_table()\n",
    "\n",
    "    def input(self, data: dict):\n",
    "        if 'number' not in data:\n",
    "            # 数据错误\n",
    "            return {False, \"number 不存在数据中\"}\n",
    "        amr_selected = AMR.select().where(AMR.number == data['number'])\n",
    "        if not amr_selected.exists():\n",
    "            # 目标AMR数据不存在\n",
    "            try:\n",
    "                AMR.create(**data)\n",
    "                return {True, \"新建行：{}\".format(data)}\n",
    "            except Exception as e:\n",
    "                return {False, \"创建行失败：{}\".format(e)}\n",
    "        # 数据存在，更新数据\n",
    "        try:\n",
    "            amr_selected.get().update(**data).execute()\n",
    "            return {True, \"更新行：{}\".format(data)}\n",
    "        except Exception as e:\n",
    "            return {False, \"更新数据失败：{}\".format(e)}\n",
    "\n",
    "    def get(self, number: int):\n",
    "        amr_selected = AMR.select().where(AMR.number == number)\n",
    "        if not amr_selected.exists():\n",
    "            # 目标AMR数据不存在\n",
    "            return False, \"数据不存在\"\n",
    "        return True, amr_selected.dicts().get()"
   ]
  },
  {
   "cell_type": "code",
   "execution_count": 37,
   "metadata": {},
   "outputs": [],
   "source": [
    "amr = AMR()"
   ]
  },
  {
   "cell_type": "code",
   "execution_count": 38,
   "metadata": {},
   "outputs": [
    {
     "data": {
      "text/plain": [
       "{True, \"新建行：{'e_type': 'amr', 'number': 1, 'timestamp': '1664090242.2652056'}\"}"
      ]
     },
     "execution_count": 38,
     "metadata": {},
     "output_type": "execute_result"
    }
   ],
   "source": [
    "import time\n",
    "data = {\n",
    "    # 第0位：设备类型\n",
    "    \"e_type\":\"amr\",\n",
    "    # 第1位：小车编号（int，1，2，3，4）\n",
    "    \"number\": 1,\n",
    "    # 第2位：时间（字符串）\n",
    "    'timestamp': str(time.time())\n",
    "}\n",
    "amr.input(data)"
   ]
  },
  {
   "cell_type": "code",
   "execution_count": 39,
   "metadata": {},
   "outputs": [
    {
     "data": {
      "text/plain": [
       "tuple"
      ]
     },
     "execution_count": 39,
     "metadata": {},
     "output_type": "execute_result"
    }
   ],
   "source": [
    "type(amr.get(1))"
   ]
  },
  {
   "cell_type": "code",
   "execution_count": null,
   "metadata": {},
   "outputs": [],
   "source": []
  }
 ],
 "metadata": {
  "interpreter": {
   "hash": "e7370f93d1d0cde622a1f8e1c04877d8463912d04d973331ad4851f04de6915a"
  },
  "kernelspec": {
   "display_name": "Python 3 (ipykernel)",
   "language": "python",
   "name": "python3"
  },
  "language_info": {
   "codemirror_mode": {
    "name": "ipython",
    "version": 3
   },
   "file_extension": ".py",
   "mimetype": "text/x-python",
   "name": "python",
   "nbconvert_exporter": "python",
   "pygments_lexer": "ipython3",
   "version": "3.8.10"
  }
 },
 "nbformat": 4,
 "nbformat_minor": 2
}
